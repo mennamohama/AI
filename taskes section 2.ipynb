{
 "cells": [
  {
   "cell_type": "markdown",
   "metadata": {},
   "source": [
    "# taskes of seconed section "
   ]
  },
  {
   "cell_type": "markdown",
   "metadata": {},
   "source": [
    "# task 1 "
   ]
  },
  {
   "cell_type": "markdown",
   "metadata": {},
   "source": [
    "## remove element "
   ]
  },
  {
   "cell_type": "code",
   "execution_count": 11,
   "metadata": {},
   "outputs": [],
   "source": [
    "Arr=[1,2,89,43,756,21,89,\"A\",[9,1,8,2]]"
   ]
  },
  {
   "cell_type": "code",
   "execution_count": 12,
   "metadata": {},
   "outputs": [
    {
     "data": {
      "text/plain": [
       "[1, 2, 89, 43, 756, 21, 89, 'A', [9, 1, 8, 2]]"
      ]
     },
     "execution_count": 12,
     "metadata": {},
     "output_type": "execute_result"
    }
   ],
   "source": [
    "Arr"
   ]
  },
  {
   "cell_type": "code",
   "execution_count": 13,
   "metadata": {},
   "outputs": [
    {
     "name": "stdout",
     "output_type": "stream",
     "text": [
      "please inter your number has want remove it 89\n"
     ]
    }
   ],
   "source": [
    "R = int(input(\"please inter your number has want remove it \"))\n",
    "for i in Arr:\n",
    "    if (i == R):\n",
    "        Arr.remove(i)"
   ]
  },
  {
   "cell_type": "code",
   "execution_count": 14,
   "metadata": {},
   "outputs": [
    {
     "data": {
      "text/plain": [
       "[1, 2, 43, 756, 21, 'A', [9, 1, 8, 2]]"
      ]
     },
     "execution_count": 14,
     "metadata": {},
     "output_type": "execute_result"
    }
   ],
   "source": [
    "Arr"
   ]
  },
  {
   "cell_type": "markdown",
   "metadata": {},
   "source": [
    "# task 2 "
   ]
  },
  {
   "cell_type": "markdown",
   "metadata": {},
   "source": [
    "## asky code of element"
   ]
  },
  {
   "cell_type": "code",
   "execution_count": 15,
   "metadata": {},
   "outputs": [
    {
     "name": "stdout",
     "output_type": "stream",
     "text": [
      "please inter your char has want new askycode it:A\n",
      "asky value of this char A is 65\n"
     ]
    }
   ],
   "source": [
    "char = input(\"please inter char has want new askycode it:\")\n",
    "\n",
    "print(\"asky value of this char \" +  char + \" is\", ord(char))"
   ]
  },
  {
   "cell_type": "markdown",
   "metadata": {},
   "source": [
    "# task 3"
   ]
  },
  {
   "cell_type": "markdown",
   "metadata": {},
   "source": [
    "## chose how operation want use of numbers"
   ]
  },
  {
   "cell_type": "code",
   "execution_count": 16,
   "metadata": {},
   "outputs": [
    {
     "name": "stdout",
     "output_type": "stream",
     "text": [
      "please inter first Number: 2\n",
      "please inter second Number: 5\n",
      "chose your operation : + or - or * or / *\n",
      "10\n"
     ]
    }
   ],
   "source": [
    "num1 = int(input(\"please inter first Number: \"))\n",
    "num2 = int(input(\"please inter second Number: \"))\n",
    "\n",
    "oper = input(\"chose your operation : + or - or * or / \")\n",
    "\n",
    "if(oper == \"+\"):\n",
    "    print(num1 + num2)\n",
    "elif(oper == \"-\"):    \n",
    "    print(num1 - num2)\n",
    "elif(oper == \"*\"):    \n",
    "    print(num1 * num2)\n",
    "elif(oper == \"/\"):\n",
    "    print(num1 / num2)\n",
    "    \n",
    "else:\n",
    "    print(\"please try again chose your operation\")"
   ]
  },
  {
   "cell_type": "code",
   "execution_count": null,
   "metadata": {},
   "outputs": [],
   "source": []
  }
 ],
 "metadata": {
  "kernelspec": {
   "display_name": "Python 3",
   "language": "python",
   "name": "python3"
  },
  "language_info": {
   "codemirror_mode": {
    "name": "ipython",
    "version": 3
   },
   "file_extension": ".py",
   "mimetype": "text/x-python",
   "name": "python",
   "nbconvert_exporter": "python",
   "pygments_lexer": "ipython3",
   "version": "3.8.5"
  }
 },
 "nbformat": 4,
 "nbformat_minor": 4
}
